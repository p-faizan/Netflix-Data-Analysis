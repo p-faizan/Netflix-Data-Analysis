{
 "cells": [
  {
   "cell_type": "code",
   "execution_count": 1,
   "id": "ba9107de-8efd-42d2-a2ed-e34e72241af8",
   "metadata": {},
   "outputs": [],
   "source": [
    "import numpy as np\n",
    "import pandas as pd"
   ]
  },
  {
   "cell_type": "code",
   "execution_count": 5,
   "id": "c5da48ab-2b8c-4c48-8621-c01fb921e4d0",
   "metadata": {},
   "outputs": [],
   "source": [
    "df=pd.read_csv(\"netflix_titles.csv\")"
   ]
  },
  {
   "cell_type": "code",
   "execution_count": 6,
   "id": "ae681166-33c6-438c-9643-8448f862d7f5",
   "metadata": {},
   "outputs": [
    {
     "data": {
      "text/html": [
       "<div>\n",
       "<style scoped>\n",
       "    .dataframe tbody tr th:only-of-type {\n",
       "        vertical-align: middle;\n",
       "    }\n",
       "\n",
       "    .dataframe tbody tr th {\n",
       "        vertical-align: top;\n",
       "    }\n",
       "\n",
       "    .dataframe thead th {\n",
       "        text-align: right;\n",
       "    }\n",
       "</style>\n",
       "<table border=\"1\" class=\"dataframe\">\n",
       "  <thead>\n",
       "    <tr style=\"text-align: right;\">\n",
       "      <th></th>\n",
       "      <th>show_id</th>\n",
       "      <th>type</th>\n",
       "      <th>title</th>\n",
       "      <th>director</th>\n",
       "      <th>cast</th>\n",
       "      <th>country</th>\n",
       "      <th>date_added</th>\n",
       "      <th>release_year</th>\n",
       "      <th>rating</th>\n",
       "      <th>duration</th>\n",
       "      <th>listed_in</th>\n",
       "      <th>description</th>\n",
       "    </tr>\n",
       "  </thead>\n",
       "  <tbody>\n",
       "    <tr>\n",
       "      <th>4630</th>\n",
       "      <td>s4631</td>\n",
       "      <td>Movie</td>\n",
       "      <td>Quincy</td>\n",
       "      <td>Rashida Jones, Alan Hicks</td>\n",
       "      <td>Quincy Jones</td>\n",
       "      <td>United States</td>\n",
       "      <td>September 21, 2018</td>\n",
       "      <td>2018</td>\n",
       "      <td>TV-MA</td>\n",
       "      <td>124 min</td>\n",
       "      <td>Documentaries, Music &amp; Musicals</td>\n",
       "      <td>This documentary profiles music and culture ic...</td>\n",
       "    </tr>\n",
       "    <tr>\n",
       "      <th>6080</th>\n",
       "      <td>s6081</td>\n",
       "      <td>Movie</td>\n",
       "      <td>Abominable Christmas</td>\n",
       "      <td>Chad Van De Keere</td>\n",
       "      <td>Isabella Acres, Drake Bell, Emilio Estevez, No...</td>\n",
       "      <td>United States</td>\n",
       "      <td>February 18, 2016</td>\n",
       "      <td>2012</td>\n",
       "      <td>TV-Y7</td>\n",
       "      <td>44 min</td>\n",
       "      <td>Children &amp; Family Movies, Comedies</td>\n",
       "      <td>Two small abominable snowmen flee their mounta...</td>\n",
       "    </tr>\n",
       "    <tr>\n",
       "      <th>4699</th>\n",
       "      <td>s4700</td>\n",
       "      <td>Movie</td>\n",
       "      <td>Yoo Byung Jae: Discomfort Zone</td>\n",
       "      <td>Y. Joon Chung</td>\n",
       "      <td>Yoo Byung Jae</td>\n",
       "      <td>South Korea</td>\n",
       "      <td>August 17, 2018</td>\n",
       "      <td>2018</td>\n",
       "      <td>TV-MA</td>\n",
       "      <td>54 min</td>\n",
       "      <td>Stand-Up Comedy</td>\n",
       "      <td>Daring comedian Yoo Byung-jae connects critici...</td>\n",
       "    </tr>\n",
       "    <tr>\n",
       "      <th>8266</th>\n",
       "      <td>s8267</td>\n",
       "      <td>Movie</td>\n",
       "      <td>The Dark Crystal</td>\n",
       "      <td>Frank Oz, Jim Henson</td>\n",
       "      <td>Jim Henson, Kathryn Mullen, Frank Oz, Dave Goe...</td>\n",
       "      <td>United States, United Kingdom</td>\n",
       "      <td>May 1, 2019</td>\n",
       "      <td>1982</td>\n",
       "      <td>PG</td>\n",
       "      <td>93 min</td>\n",
       "      <td>Children &amp; Family Movies</td>\n",
       "      <td>In this mythical tale, Jen, the last of the Ge...</td>\n",
       "    </tr>\n",
       "    <tr>\n",
       "      <th>3708</th>\n",
       "      <td>s3709</td>\n",
       "      <td>TV Show</td>\n",
       "      <td>Paquita Salas</td>\n",
       "      <td>NaN</td>\n",
       "      <td>Brays Efe, Belén Cuesta, Lidia San José, Álex ...</td>\n",
       "      <td>Spain</td>\n",
       "      <td>June 28, 2019</td>\n",
       "      <td>2018</td>\n",
       "      <td>TV-MA</td>\n",
       "      <td>3 Seasons</td>\n",
       "      <td>International TV Shows, Spanish-Language TV Sh...</td>\n",
       "      <td>One of Spain's best talent agents in the '90s,...</td>\n",
       "    </tr>\n",
       "  </tbody>\n",
       "</table>\n",
       "</div>"
      ],
      "text/plain": [
       "     show_id     type                           title  \\\n",
       "4630   s4631    Movie                          Quincy   \n",
       "6080   s6081    Movie            Abominable Christmas   \n",
       "4699   s4700    Movie  Yoo Byung Jae: Discomfort Zone   \n",
       "8266   s8267    Movie                The Dark Crystal   \n",
       "3708   s3709  TV Show                   Paquita Salas   \n",
       "\n",
       "                       director  \\\n",
       "4630  Rashida Jones, Alan Hicks   \n",
       "6080          Chad Van De Keere   \n",
       "4699              Y. Joon Chung   \n",
       "8266       Frank Oz, Jim Henson   \n",
       "3708                        NaN   \n",
       "\n",
       "                                                   cast  \\\n",
       "4630                                       Quincy Jones   \n",
       "6080  Isabella Acres, Drake Bell, Emilio Estevez, No...   \n",
       "4699                                      Yoo Byung Jae   \n",
       "8266  Jim Henson, Kathryn Mullen, Frank Oz, Dave Goe...   \n",
       "3708  Brays Efe, Belén Cuesta, Lidia San José, Álex ...   \n",
       "\n",
       "                            country          date_added  release_year rating  \\\n",
       "4630                  United States  September 21, 2018          2018  TV-MA   \n",
       "6080                  United States   February 18, 2016          2012  TV-Y7   \n",
       "4699                    South Korea     August 17, 2018          2018  TV-MA   \n",
       "8266  United States, United Kingdom         May 1, 2019          1982     PG   \n",
       "3708                          Spain       June 28, 2019          2018  TV-MA   \n",
       "\n",
       "       duration                                          listed_in  \\\n",
       "4630    124 min                    Documentaries, Music & Musicals   \n",
       "6080     44 min                 Children & Family Movies, Comedies   \n",
       "4699     54 min                                    Stand-Up Comedy   \n",
       "8266     93 min                           Children & Family Movies   \n",
       "3708  3 Seasons  International TV Shows, Spanish-Language TV Sh...   \n",
       "\n",
       "                                            description  \n",
       "4630  This documentary profiles music and culture ic...  \n",
       "6080  Two small abominable snowmen flee their mounta...  \n",
       "4699  Daring comedian Yoo Byung-jae connects critici...  \n",
       "8266  In this mythical tale, Jen, the last of the Ge...  \n",
       "3708  One of Spain's best talent agents in the '90s,...  "
      ]
     },
     "execution_count": 6,
     "metadata": {},
     "output_type": "execute_result"
    }
   ],
   "source": [
    "df.sample(5)"
   ]
  },
  {
   "cell_type": "code",
   "execution_count": 7,
   "id": "d8f2ff9b-5418-471d-acaa-895e1fcc2fde",
   "metadata": {},
   "outputs": [],
   "source": [
    "df.drop([\"show_id\",\"description\"],axis=1,inplace = True)"
   ]
  },
  {
   "cell_type": "code",
   "execution_count": 8,
   "id": "5af8a663-1875-44a5-8675-970e46578b8b",
   "metadata": {},
   "outputs": [
    {
     "data": {
      "text/html": [
       "<div>\n",
       "<style scoped>\n",
       "    .dataframe tbody tr th:only-of-type {\n",
       "        vertical-align: middle;\n",
       "    }\n",
       "\n",
       "    .dataframe tbody tr th {\n",
       "        vertical-align: top;\n",
       "    }\n",
       "\n",
       "    .dataframe thead th {\n",
       "        text-align: right;\n",
       "    }\n",
       "</style>\n",
       "<table border=\"1\" class=\"dataframe\">\n",
       "  <thead>\n",
       "    <tr style=\"text-align: right;\">\n",
       "      <th></th>\n",
       "      <th>type</th>\n",
       "      <th>title</th>\n",
       "      <th>director</th>\n",
       "      <th>cast</th>\n",
       "      <th>country</th>\n",
       "      <th>date_added</th>\n",
       "      <th>release_year</th>\n",
       "      <th>rating</th>\n",
       "      <th>duration</th>\n",
       "      <th>listed_in</th>\n",
       "    </tr>\n",
       "  </thead>\n",
       "  <tbody>\n",
       "    <tr>\n",
       "      <th>3500</th>\n",
       "      <td>Movie</td>\n",
       "      <td>Between Two Ferns: The Movie</td>\n",
       "      <td>Scott Aukerman</td>\n",
       "      <td>Zach Galifianakis, Lauren Lapkus, Ryan Gaul, J...</td>\n",
       "      <td>United States</td>\n",
       "      <td>September 20, 2019</td>\n",
       "      <td>2019</td>\n",
       "      <td>TV-MA</td>\n",
       "      <td>83 min</td>\n",
       "      <td>Comedies</td>\n",
       "    </tr>\n",
       "    <tr>\n",
       "      <th>1031</th>\n",
       "      <td>Movie</td>\n",
       "      <td>Into the Beat</td>\n",
       "      <td>Stefan Westerwelle</td>\n",
       "      <td>Alexandra Pfeifer, Yalany Marschner, Trystan P...</td>\n",
       "      <td>Germany</td>\n",
       "      <td>April 16, 2021</td>\n",
       "      <td>2020</td>\n",
       "      <td>TV-14</td>\n",
       "      <td>102 min</td>\n",
       "      <td>Dramas, International Movies, Romantic Movies</td>\n",
       "    </tr>\n",
       "    <tr>\n",
       "      <th>3940</th>\n",
       "      <td>TV Show</td>\n",
       "      <td>Quicksand</td>\n",
       "      <td>NaN</td>\n",
       "      <td>Hanna Ardéhn, Felix Sandman, William Spetz, El...</td>\n",
       "      <td>Sweden</td>\n",
       "      <td>April 5, 2019</td>\n",
       "      <td>2019</td>\n",
       "      <td>TV-MA</td>\n",
       "      <td>1 Season</td>\n",
       "      <td>Crime TV Shows, International TV Shows, TV Dramas</td>\n",
       "    </tr>\n",
       "    <tr>\n",
       "      <th>3395</th>\n",
       "      <td>Movie</td>\n",
       "      <td>ChuChuTV Bedtime Stories &amp; Moral Stories for K...</td>\n",
       "      <td>NaN</td>\n",
       "      <td>NaN</td>\n",
       "      <td>NaN</td>\n",
       "      <td>October 18, 2019</td>\n",
       "      <td>2019</td>\n",
       "      <td>TV-Y</td>\n",
       "      <td>56 min</td>\n",
       "      <td>Children &amp; Family Movies</td>\n",
       "    </tr>\n",
       "    <tr>\n",
       "      <th>5615</th>\n",
       "      <td>Movie</td>\n",
       "      <td>Imperial Dreams</td>\n",
       "      <td>Malik Vitthal</td>\n",
       "      <td>John Boyega, Rotimi, Glenn Plummer, De'Aundre ...</td>\n",
       "      <td>United States</td>\n",
       "      <td>February 3, 2017</td>\n",
       "      <td>2014</td>\n",
       "      <td>TV-MA</td>\n",
       "      <td>86 min</td>\n",
       "      <td>Dramas</td>\n",
       "    </tr>\n",
       "  </tbody>\n",
       "</table>\n",
       "</div>"
      ],
      "text/plain": [
       "         type                                              title  \\\n",
       "3500    Movie                       Between Two Ferns: The Movie   \n",
       "1031    Movie                                      Into the Beat   \n",
       "3940  TV Show                                          Quicksand   \n",
       "3395    Movie  ChuChuTV Bedtime Stories & Moral Stories for K...   \n",
       "5615    Movie                                    Imperial Dreams   \n",
       "\n",
       "                director                                               cast  \\\n",
       "3500      Scott Aukerman  Zach Galifianakis, Lauren Lapkus, Ryan Gaul, J...   \n",
       "1031  Stefan Westerwelle  Alexandra Pfeifer, Yalany Marschner, Trystan P...   \n",
       "3940                 NaN  Hanna Ardéhn, Felix Sandman, William Spetz, El...   \n",
       "3395                 NaN                                                NaN   \n",
       "5615       Malik Vitthal  John Boyega, Rotimi, Glenn Plummer, De'Aundre ...   \n",
       "\n",
       "            country          date_added  release_year rating  duration  \\\n",
       "3500  United States  September 20, 2019          2019  TV-MA    83 min   \n",
       "1031        Germany      April 16, 2021          2020  TV-14   102 min   \n",
       "3940         Sweden       April 5, 2019          2019  TV-MA  1 Season   \n",
       "3395            NaN    October 18, 2019          2019   TV-Y    56 min   \n",
       "5615  United States    February 3, 2017          2014  TV-MA    86 min   \n",
       "\n",
       "                                              listed_in  \n",
       "3500                                           Comedies  \n",
       "1031      Dramas, International Movies, Romantic Movies  \n",
       "3940  Crime TV Shows, International TV Shows, TV Dramas  \n",
       "3395                           Children & Family Movies  \n",
       "5615                                             Dramas  "
      ]
     },
     "execution_count": 8,
     "metadata": {},
     "output_type": "execute_result"
    }
   ],
   "source": [
    "df.sample(5)"
   ]
  },
  {
   "cell_type": "code",
   "execution_count": 9,
   "id": "e1cd76d4-e557-4922-9c96-fd13e3faf0b4",
   "metadata": {},
   "outputs": [
    {
     "data": {
      "text/plain": [
       "(8807, 10)"
      ]
     },
     "execution_count": 9,
     "metadata": {},
     "output_type": "execute_result"
    }
   ],
   "source": [
    "df.shape"
   ]
  },
  {
   "cell_type": "code",
   "execution_count": 10,
   "id": "f8343b1c-ad3f-4c72-abfb-67967d0a3ec6",
   "metadata": {},
   "outputs": [
    {
     "data": {
      "text/plain": [
       "88070"
      ]
     },
     "execution_count": 10,
     "metadata": {},
     "output_type": "execute_result"
    }
   ],
   "source": [
    "df.size"
   ]
  },
  {
   "cell_type": "code",
   "execution_count": 11,
   "id": "de884820-7b2b-4744-b881-6ef1c72b4ef8",
   "metadata": {},
   "outputs": [
    {
     "data": {
      "text/plain": [
       "RangeIndex(start=0, stop=8807, step=1)"
      ]
     },
     "execution_count": 11,
     "metadata": {},
     "output_type": "execute_result"
    }
   ],
   "source": [
    "df.index"
   ]
  },
  {
   "cell_type": "code",
   "execution_count": 12,
   "id": "4ee298fa-4cd0-4e49-9ac9-c408b1f41672",
   "metadata": {},
   "outputs": [
    {
     "data": {
      "text/plain": [
       "Index(['type', 'title', 'director', 'cast', 'country', 'date_added',\n",
       "       'release_year', 'rating', 'duration', 'listed_in'],\n",
       "      dtype='object')"
      ]
     },
     "execution_count": 12,
     "metadata": {},
     "output_type": "execute_result"
    }
   ],
   "source": [
    "df.columns"
   ]
  },
  {
   "cell_type": "code",
   "execution_count": 14,
   "id": "dd4c63df-6eda-48b0-b0c3-5c2c74774e39",
   "metadata": {},
   "outputs": [
    {
     "name": "stdout",
     "output_type": "stream",
     "text": [
      "<class 'pandas.core.frame.DataFrame'>\n",
      "RangeIndex: 8807 entries, 0 to 8806\n",
      "Data columns (total 10 columns):\n",
      " #   Column        Non-Null Count  Dtype \n",
      "---  ------        --------------  ----- \n",
      " 0   type          8807 non-null   object\n",
      " 1   title         8807 non-null   object\n",
      " 2   director      6173 non-null   object\n",
      " 3   cast          7982 non-null   object\n",
      " 4   country       7976 non-null   object\n",
      " 5   date_added    8797 non-null   object\n",
      " 6   release_year  8807 non-null   int64 \n",
      " 7   rating        8803 non-null   object\n",
      " 8   duration      8804 non-null   object\n",
      " 9   listed_in     8807 non-null   object\n",
      "dtypes: int64(1), object(9)\n",
      "memory usage: 688.2+ KB\n"
     ]
    }
   ],
   "source": [
    " df.info()"
   ]
  },
  {
   "cell_type": "code",
   "execution_count": 15,
   "id": "98c2d362-e63e-423a-a9c2-065029cc7f6a",
   "metadata": {},
   "outputs": [
    {
     "data": {
      "text/plain": [
       "type               0\n",
       "title              0\n",
       "director        2634\n",
       "cast             825\n",
       "country          831\n",
       "date_added        10\n",
       "release_year       0\n",
       "rating             4\n",
       "duration           3\n",
       "listed_in          0\n",
       "dtype: int64"
      ]
     },
     "execution_count": 15,
     "metadata": {},
     "output_type": "execute_result"
    }
   ],
   "source": [
    "df.isna().sum()"
   ]
  },
  {
   "cell_type": "code",
   "execution_count": 16,
   "id": "246090bd-6371-4577-bdea-c9f7db5ae025",
   "metadata": {},
   "outputs": [],
   "source": [
    "mode_country=df[\"country\"].mode()[0]"
   ]
  },
  {
   "cell_type": "code",
   "execution_count": 17,
   "id": "10723342-5c5e-47b1-b10d-f7655b2d8d93",
   "metadata": {},
   "outputs": [
    {
     "data": {
      "text/plain": [
       "'United States'"
      ]
     },
     "execution_count": 17,
     "metadata": {},
     "output_type": "execute_result"
    }
   ],
   "source": [
    "mode_country"
   ]
  },
  {
   "cell_type": "code",
   "execution_count": 18,
   "id": "05de09c9-8751-4874-89b0-9d1c9479bf12",
   "metadata": {},
   "outputs": [],
   "source": [
    "df[\"country\"]=df[\"country\"].fillna(mode_country)"
   ]
  },
  {
   "cell_type": "code",
   "execution_count": 19,
   "id": "41d46fb4-619f-4fb5-92a8-31317d6e2bf3",
   "metadata": {},
   "outputs": [
    {
     "data": {
      "text/plain": [
       "type               0\n",
       "title              0\n",
       "director        2634\n",
       "cast             825\n",
       "country            0\n",
       "date_added        10\n",
       "release_year       0\n",
       "rating             4\n",
       "duration           3\n",
       "listed_in          0\n",
       "dtype: int64"
      ]
     },
     "execution_count": 19,
     "metadata": {},
     "output_type": "execute_result"
    }
   ],
   "source": [
    "df.isna().sum()\n"
   ]
  },
  {
   "cell_type": "code",
   "execution_count": 21,
   "id": "cda4140f-fc8a-4be3-8b1b-58eeaba9e12c",
   "metadata": {},
   "outputs": [],
   "source": [
    "mode_date=df[\"date_added\"].mode()[0]"
   ]
  },
  {
   "cell_type": "code",
   "execution_count": 22,
   "id": "b292b6db-653b-43f0-9e25-dd8a016b04aa",
   "metadata": {},
   "outputs": [
    {
     "data": {
      "text/plain": [
       "'January 1, 2020'"
      ]
     },
     "execution_count": 22,
     "metadata": {},
     "output_type": "execute_result"
    }
   ],
   "source": [
    "mode_date"
   ]
  },
  {
   "cell_type": "code",
   "execution_count": 23,
   "id": "31f92b98-9275-4ef9-b477-97b734686c93",
   "metadata": {},
   "outputs": [],
   "source": [
    "df[\"date_added\"]=df[\"date_added\"].fillna(mode_date)"
   ]
  },
  {
   "cell_type": "code",
   "execution_count": 24,
   "id": "e8dcba6f-1f53-410b-b6ed-eddcfbea22bf",
   "metadata": {},
   "outputs": [
    {
     "data": {
      "text/plain": [
       "type               0\n",
       "title              0\n",
       "director        2634\n",
       "cast             825\n",
       "country            0\n",
       "date_added         0\n",
       "release_year       0\n",
       "rating             4\n",
       "duration           3\n",
       "listed_in          0\n",
       "dtype: int64"
      ]
     },
     "execution_count": 24,
     "metadata": {},
     "output_type": "execute_result"
    }
   ],
   "source": [
    "df.isna().sum()\n"
   ]
  },
  {
   "cell_type": "code",
   "execution_count": 25,
   "id": "55c24dba-1dc1-400a-894c-009007fa6df2",
   "metadata": {},
   "outputs": [],
   "source": [
    "mode_rating=df[\"rating\"].mode()[0]"
   ]
  },
  {
   "cell_type": "code",
   "execution_count": 26,
   "id": "ed7af94c-fc2c-4353-be6a-d61c3ce36948",
   "metadata": {},
   "outputs": [],
   "source": [
    "df[\"rating\"]=df[\"rating\"].fillna(mode_rating)"
   ]
  },
  {
   "cell_type": "code",
   "execution_count": 27,
   "id": "ac727f8e-acfe-48f5-b816-c3600f0a679c",
   "metadata": {},
   "outputs": [],
   "source": [
    "mode_duration=df[\"duration\"].mode()[0]"
   ]
  },
  {
   "cell_type": "code",
   "execution_count": 28,
   "id": "a89164fa-2808-4aa4-8d48-59c61abb65de",
   "metadata": {},
   "outputs": [],
   "source": [
    "df[\"duration\"]=df[\"duration\"].fillna(mode_duration)"
   ]
  },
  {
   "cell_type": "code",
   "execution_count": 29,
   "id": "856c3b5e-8da7-4c2d-bed3-bd84e611a611",
   "metadata": {},
   "outputs": [
    {
     "data": {
      "text/plain": [
       "type               0\n",
       "title              0\n",
       "director        2634\n",
       "cast             825\n",
       "country            0\n",
       "date_added         0\n",
       "release_year       0\n",
       "rating             0\n",
       "duration           0\n",
       "listed_in          0\n",
       "dtype: int64"
      ]
     },
     "execution_count": 29,
     "metadata": {},
     "output_type": "execute_result"
    }
   ],
   "source": [
    "df.isna().sum()"
   ]
  },
  {
   "cell_type": "code",
   "execution_count": 30,
   "id": "f860281f-8e0b-4565-b860-ef4282e68f43",
   "metadata": {},
   "outputs": [],
   "source": [
    "df[\"director\"]=df[\"director\"].fillna(\"Not mentioned\")"
   ]
  },
  {
   "cell_type": "code",
   "execution_count": 31,
   "id": "5fa49c77-9b5f-4e35-ba22-d2a242a77d31",
   "metadata": {},
   "outputs": [],
   "source": [
    "df[\"cast\"]=df[\"cast\"].fillna(\"Not mentioned\")\n",
    "\n"
   ]
  },
  {
   "cell_type": "code",
   "execution_count": 33,
   "id": "a8ee922a-2ddf-4d95-9437-5ac59f6687dc",
   "metadata": {},
   "outputs": [
    {
     "data": {
      "text/plain": [
       "type            0\n",
       "title           0\n",
       "director        0\n",
       "cast            0\n",
       "country         0\n",
       "date_added      0\n",
       "release_year    0\n",
       "rating          0\n",
       "duration        0\n",
       "listed_in       0\n",
       "dtype: int64"
      ]
     },
     "execution_count": 33,
     "metadata": {},
     "output_type": "execute_result"
    }
   ],
   "source": [
    "df.isna().sum()"
   ]
  },
  {
   "cell_type": "code",
   "execution_count": 38,
   "id": "0adcddea-c831-4ca6-81ed-a03b2c79c0e4",
   "metadata": {},
   "outputs": [
    {
     "data": {
      "text/plain": [
       "array(['PG-13', 'TV-MA', 'PG', 'TV-14', 'TV-PG', 'TV-Y', 'TV-Y7', 'R',\n",
       "       'TV-G', 'G', 'NC-17', 'NR', 'TV-Y7-FV', 'UR'], dtype=object)"
      ]
     },
     "execution_count": 38,
     "metadata": {},
     "output_type": "execute_result"
    }
   ],
   "source": [
    "df[\"rating\"].unique()"
   ]
  },
  {
   "cell_type": "code",
   "execution_count": 35,
   "id": "09804628-5827-4207-90f2-c1881c1e506e",
   "metadata": {},
   "outputs": [],
   "source": [
    "df=df[-df[\"rating\"].str.contains(\"min\")]"
   ]
  },
  {
   "cell_type": "code",
   "execution_count": 37,
   "id": "0781a98a-0357-4998-8122-5ff2c6ac625c",
   "metadata": {},
   "outputs": [
    {
     "data": {
      "text/plain": [
       "(8804, 10)"
      ]
     },
     "execution_count": 37,
     "metadata": {},
     "output_type": "execute_result"
    }
   ],
   "source": [
    "df.shape"
   ]
  },
  {
   "cell_type": "code",
   "execution_count": 39,
   "id": "291492b3-dc22-4d7a-a91f-eff7e4ed369c",
   "metadata": {},
   "outputs": [
    {
     "data": {
      "text/plain": [
       "array(['September 25, 2021', 'September 24, 2021', 'September 23, 2021',\n",
       "       ..., 'December 6, 2018', 'March 9, 2016', 'January 11, 2020'],\n",
       "      shape=(1766,), dtype=object)"
      ]
     },
     "execution_count": 39,
     "metadata": {},
     "output_type": "execute_result"
    }
   ],
   "source": [
    "df[\"date_added\"].unique()"
   ]
  },
  {
   "cell_type": "code",
   "execution_count": 40,
   "id": "1e5f57f8-c39c-402c-9d8b-9ef95ad06b3a",
   "metadata": {},
   "outputs": [
    {
     "name": "stderr",
     "output_type": "stream",
     "text": [
      "C:\\Users\\ASUS\\AppData\\Local\\Temp\\ipykernel_17988\\2649166716.py:1: SettingWithCopyWarning: \n",
      "A value is trying to be set on a copy of a slice from a DataFrame.\n",
      "Try using .loc[row_indexer,col_indexer] = value instead\n",
      "\n",
      "See the caveats in the documentation: https://pandas.pydata.org/pandas-docs/stable/user_guide/indexing.html#returning-a-view-versus-a-copy\n",
      "  df[\"date_added\"]=df[\"date_added\"].str.replace(\",\",\"\")\n"
     ]
    }
   ],
   "source": [
    "df[\"date_added\"]=df[\"date_added\"].str.replace(\",\",\"\")"
   ]
  },
  {
   "cell_type": "code",
   "execution_count": 41,
   "id": "f453d807-d837-4a80-9611-92d4246a70cc",
   "metadata": {},
   "outputs": [
    {
     "data": {
      "text/plain": [
       "array(['September 25 2021', 'September 24 2021', 'September 23 2021', ...,\n",
       "       'December 6 2018', 'March 9 2016', 'January 11 2020'],\n",
       "      shape=(1766,), dtype=object)"
      ]
     },
     "execution_count": 41,
     "metadata": {},
     "output_type": "execute_result"
    }
   ],
   "source": [
    "df[\"date_added\"].unique()\n"
   ]
  },
  {
   "cell_type": "code",
   "execution_count": 42,
   "id": "31395be0-7a57-4adf-8014-8b5708e49012",
   "metadata": {},
   "outputs": [
    {
     "name": "stderr",
     "output_type": "stream",
     "text": [
      "C:\\Users\\ASUS\\AppData\\Local\\Temp\\ipykernel_17988\\3070659510.py:1: SettingWithCopyWarning: \n",
      "A value is trying to be set on a copy of a slice from a DataFrame.\n",
      "Try using .loc[row_indexer,col_indexer] = value instead\n",
      "\n",
      "See the caveats in the documentation: https://pandas.pydata.org/pandas-docs/stable/user_guide/indexing.html#returning-a-view-versus-a-copy\n",
      "  df[\"date_added\"]=pd.to_datetime(df[\"date_added\"],format=\"mixed\")\n"
     ]
    }
   ],
   "source": [
    "df[\"date_added\"]=pd.to_datetime(df[\"date_added\"],format=\"mixed\")"
   ]
  },
  {
   "cell_type": "code",
   "execution_count": 43,
   "id": "002a187b-ef20-43d5-8ca9-551cb370be6b",
   "metadata": {},
   "outputs": [
    {
     "data": {
      "text/plain": [
       "<DatetimeArray>\n",
       "['2021-09-25 00:00:00', '2021-09-24 00:00:00', '2021-09-23 00:00:00',\n",
       " '2021-09-22 00:00:00', '2021-09-21 00:00:00', '2021-09-20 00:00:00',\n",
       " '2021-09-19 00:00:00', '2021-09-17 00:00:00', '2021-09-16 00:00:00',\n",
       " '2021-09-15 00:00:00',\n",
       " ...\n",
       " '2018-09-27 00:00:00', '2017-03-23 00:00:00', '2016-12-25 00:00:00',\n",
       " '2016-11-30 00:00:00', '2017-10-23 00:00:00', '2017-11-04 00:00:00',\n",
       " '2015-08-05 00:00:00', '2018-12-06 00:00:00', '2016-03-09 00:00:00',\n",
       " '2020-01-11 00:00:00']\n",
       "Length: 1714, dtype: datetime64[ns]"
      ]
     },
     "execution_count": 43,
     "metadata": {},
     "output_type": "execute_result"
    }
   ],
   "source": [
    "df[\"date_added\"].unique()\n"
   ]
  },
  {
   "cell_type": "code",
   "execution_count": 44,
   "id": "afc304d0-e84d-48cd-8258-d8034bcf526e",
   "metadata": {},
   "outputs": [
    {
     "name": "stderr",
     "output_type": "stream",
     "text": [
      "C:\\Users\\ASUS\\AppData\\Local\\Temp\\ipykernel_17988\\1025263937.py:1: SettingWithCopyWarning: \n",
      "A value is trying to be set on a copy of a slice from a DataFrame.\n",
      "Try using .loc[row_indexer,col_indexer] = value instead\n",
      "\n",
      "See the caveats in the documentation: https://pandas.pydata.org/pandas-docs/stable/user_guide/indexing.html#returning-a-view-versus-a-copy\n",
      "  df[\"year\"]=df[\"date_added\"].dt.year\n"
     ]
    }
   ],
   "source": [
    "df[\"year\"]=df[\"date_added\"].dt.year"
   ]
  },
  {
   "cell_type": "code",
   "execution_count": 45,
   "id": "ffe79a1a-b97a-4f83-9c1a-44a6266aa82b",
   "metadata": {},
   "outputs": [
    {
     "name": "stderr",
     "output_type": "stream",
     "text": [
      "C:\\Users\\ASUS\\AppData\\Local\\Temp\\ipykernel_17988\\211772853.py:1: SettingWithCopyWarning: \n",
      "A value is trying to be set on a copy of a slice from a DataFrame.\n",
      "Try using .loc[row_indexer,col_indexer] = value instead\n",
      "\n",
      "See the caveats in the documentation: https://pandas.pydata.org/pandas-docs/stable/user_guide/indexing.html#returning-a-view-versus-a-copy\n",
      "  df[\"month\"]=df[\"date_added\"].dt.month\n"
     ]
    }
   ],
   "source": [
    "df[\"month\"]=df[\"date_added\"].dt.month\n"
   ]
  },
  {
   "cell_type": "code",
   "execution_count": 46,
   "id": "ff22c0ce-5d64-471d-b903-8f40b4f27aa6",
   "metadata": {},
   "outputs": [
    {
     "name": "stderr",
     "output_type": "stream",
     "text": [
      "C:\\Users\\ASUS\\AppData\\Local\\Temp\\ipykernel_17988\\1983729496.py:1: SettingWithCopyWarning: \n",
      "A value is trying to be set on a copy of a slice from a DataFrame.\n",
      "Try using .loc[row_indexer,col_indexer] = value instead\n",
      "\n",
      "See the caveats in the documentation: https://pandas.pydata.org/pandas-docs/stable/user_guide/indexing.html#returning-a-view-versus-a-copy\n",
      "  df[\"day\"]=df[\"date_added\"].dt.day\n"
     ]
    }
   ],
   "source": [
    "df[\"day\"]=df[\"date_added\"].dt.day\n"
   ]
  },
  {
   "cell_type": "code",
   "execution_count": 47,
   "id": "5287d5f7-19f0-47e2-b09e-b60da8372256",
   "metadata": {},
   "outputs": [
    {
     "data": {
      "text/html": [
       "<div>\n",
       "<style scoped>\n",
       "    .dataframe tbody tr th:only-of-type {\n",
       "        vertical-align: middle;\n",
       "    }\n",
       "\n",
       "    .dataframe tbody tr th {\n",
       "        vertical-align: top;\n",
       "    }\n",
       "\n",
       "    .dataframe thead th {\n",
       "        text-align: right;\n",
       "    }\n",
       "</style>\n",
       "<table border=\"1\" class=\"dataframe\">\n",
       "  <thead>\n",
       "    <tr style=\"text-align: right;\">\n",
       "      <th></th>\n",
       "      <th>type</th>\n",
       "      <th>title</th>\n",
       "      <th>director</th>\n",
       "      <th>cast</th>\n",
       "      <th>country</th>\n",
       "      <th>date_added</th>\n",
       "      <th>release_year</th>\n",
       "      <th>rating</th>\n",
       "      <th>duration</th>\n",
       "      <th>listed_in</th>\n",
       "      <th>year</th>\n",
       "      <th>month</th>\n",
       "      <th>day</th>\n",
       "    </tr>\n",
       "  </thead>\n",
       "  <tbody>\n",
       "    <tr>\n",
       "      <th>3293</th>\n",
       "      <td>TV Show</td>\n",
       "      <td>Little Things</td>\n",
       "      <td>Not mentioned</td>\n",
       "      <td>Dhruv Sehgal, Mithila Palkar</td>\n",
       "      <td>India</td>\n",
       "      <td>2019-11-09</td>\n",
       "      <td>2019</td>\n",
       "      <td>TV-MA</td>\n",
       "      <td>3 Seasons</td>\n",
       "      <td>International TV Shows, Romantic TV Shows, TV ...</td>\n",
       "      <td>2019</td>\n",
       "      <td>11</td>\n",
       "      <td>9</td>\n",
       "    </tr>\n",
       "    <tr>\n",
       "      <th>6530</th>\n",
       "      <td>Movie</td>\n",
       "      <td>Contract</td>\n",
       "      <td>Ram Gopal Varma</td>\n",
       "      <td>Adhvik Mahajan, Prasad Purandhare, Sakshi Gula...</td>\n",
       "      <td>India</td>\n",
       "      <td>2019-03-02</td>\n",
       "      <td>2008</td>\n",
       "      <td>TV-14</td>\n",
       "      <td>116 min</td>\n",
       "      <td>Action &amp; Adventure, Dramas, Independent Movies</td>\n",
       "      <td>2019</td>\n",
       "      <td>3</td>\n",
       "      <td>2</td>\n",
       "    </tr>\n",
       "    <tr>\n",
       "      <th>342</th>\n",
       "      <td>Movie</td>\n",
       "      <td>Major Payne</td>\n",
       "      <td>Nick Castle</td>\n",
       "      <td>Damon Wayans, Karyn Parsons, William Hickey, M...</td>\n",
       "      <td>United States</td>\n",
       "      <td>2021-08-01</td>\n",
       "      <td>1995</td>\n",
       "      <td>PG-13</td>\n",
       "      <td>97 min</td>\n",
       "      <td>Comedies</td>\n",
       "      <td>2021</td>\n",
       "      <td>8</td>\n",
       "      <td>1</td>\n",
       "    </tr>\n",
       "    <tr>\n",
       "      <th>3214</th>\n",
       "      <td>Movie</td>\n",
       "      <td>Payday</td>\n",
       "      <td>Cheta Chukwu</td>\n",
       "      <td>Baaj Adebule, Ebiye Victor, Meg Otanwa, Bisola...</td>\n",
       "      <td>Nigeria</td>\n",
       "      <td>2019-11-29</td>\n",
       "      <td>2018</td>\n",
       "      <td>TV-MA</td>\n",
       "      <td>110 min</td>\n",
       "      <td>Comedies, Independent Movies, International Mo...</td>\n",
       "      <td>2019</td>\n",
       "      <td>11</td>\n",
       "      <td>29</td>\n",
       "    </tr>\n",
       "    <tr>\n",
       "      <th>4736</th>\n",
       "      <td>Movie</td>\n",
       "      <td>Thank You</td>\n",
       "      <td>Anees Bazmee</td>\n",
       "      <td>Akshay Kumar, Bobby Deol, Sonam Kapoor, Irrfan...</td>\n",
       "      <td>India</td>\n",
       "      <td>2018-08-02</td>\n",
       "      <td>2011</td>\n",
       "      <td>TV-14</td>\n",
       "      <td>131 min</td>\n",
       "      <td>Comedies, International Movies, Romantic Movies</td>\n",
       "      <td>2018</td>\n",
       "      <td>8</td>\n",
       "      <td>2</td>\n",
       "    </tr>\n",
       "  </tbody>\n",
       "</table>\n",
       "</div>"
      ],
      "text/plain": [
       "         type          title         director  \\\n",
       "3293  TV Show  Little Things    Not mentioned   \n",
       "6530    Movie       Contract  Ram Gopal Varma   \n",
       "342     Movie    Major Payne      Nick Castle   \n",
       "3214    Movie         Payday     Cheta Chukwu   \n",
       "4736    Movie      Thank You     Anees Bazmee   \n",
       "\n",
       "                                                   cast        country  \\\n",
       "3293                       Dhruv Sehgal, Mithila Palkar          India   \n",
       "6530  Adhvik Mahajan, Prasad Purandhare, Sakshi Gula...          India   \n",
       "342   Damon Wayans, Karyn Parsons, William Hickey, M...  United States   \n",
       "3214  Baaj Adebule, Ebiye Victor, Meg Otanwa, Bisola...        Nigeria   \n",
       "4736  Akshay Kumar, Bobby Deol, Sonam Kapoor, Irrfan...          India   \n",
       "\n",
       "     date_added  release_year rating   duration  \\\n",
       "3293 2019-11-09          2019  TV-MA  3 Seasons   \n",
       "6530 2019-03-02          2008  TV-14    116 min   \n",
       "342  2021-08-01          1995  PG-13     97 min   \n",
       "3214 2019-11-29          2018  TV-MA    110 min   \n",
       "4736 2018-08-02          2011  TV-14    131 min   \n",
       "\n",
       "                                              listed_in  year  month  day  \n",
       "3293  International TV Shows, Romantic TV Shows, TV ...  2019     11    9  \n",
       "6530     Action & Adventure, Dramas, Independent Movies  2019      3    2  \n",
       "342                                            Comedies  2021      8    1  \n",
       "3214  Comedies, Independent Movies, International Mo...  2019     11   29  \n",
       "4736    Comedies, International Movies, Romantic Movies  2018      8    2  "
      ]
     },
     "execution_count": 47,
     "metadata": {},
     "output_type": "execute_result"
    }
   ],
   "source": [
    "df.sample(5)"
   ]
  },
  {
   "cell_type": "code",
   "execution_count": 48,
   "id": "bd707074-9ce3-4ea0-ab1a-40fcbc1bd9c5",
   "metadata": {},
   "outputs": [
    {
     "name": "stderr",
     "output_type": "stream",
     "text": [
      "C:\\Users\\ASUS\\AppData\\Local\\Temp\\ipykernel_17988\\1967608466.py:1: SettingWithCopyWarning: \n",
      "A value is trying to be set on a copy of a slice from a DataFrame.\n",
      "Try using .loc[row_indexer,col_indexer] = value instead\n",
      "\n",
      "See the caveats in the documentation: https://pandas.pydata.org/pandas-docs/stable/user_guide/indexing.html#returning-a-view-versus-a-copy\n",
      "  df[\"genre\"]=df[\"listed_in\"].str.split(\",\").str[0]\n"
     ]
    }
   ],
   "source": [
    "df[\"genre\"]=df[\"listed_in\"].str.split(\",\").str[0]"
   ]
  },
  {
   "cell_type": "code",
   "execution_count": 49,
   "id": "9ac6a7c9-8221-4a3a-9495-4923f07b06db",
   "metadata": {},
   "outputs": [
    {
     "data": {
      "text/plain": [
       "2815                    Comedies\n",
       "3909    Children & Family Movies\n",
       "1693                Anime Series\n",
       "2567                    Comedies\n",
       "2263        International Movies\n",
       "Name: genre, dtype: object"
      ]
     },
     "execution_count": 49,
     "metadata": {},
     "output_type": "execute_result"
    }
   ],
   "source": [
    "df[\"genre\"].sample(5)"
   ]
  },
  {
   "cell_type": "code",
   "execution_count": 50,
   "id": "a910d0d7-a1da-47c0-ba5b-b46518838c9a",
   "metadata": {},
   "outputs": [
    {
     "data": {
      "text/plain": [
       "genre\n",
       "Dramas                    1600\n",
       "Comedies                  1210\n",
       "Action & Adventure         859\n",
       "Documentaries              829\n",
       "International TV Shows     774\n",
       "Name: count, dtype: int64"
      ]
     },
     "execution_count": 50,
     "metadata": {},
     "output_type": "execute_result"
    }
   ],
   "source": [
    "df[\"genre\"].value_counts().head(5)"
   ]
  },
  {
   "cell_type": "code",
   "execution_count": 55,
   "id": "d47cc4ce-06f7-4af4-9de9-a37c93e0b9c2",
   "metadata": {},
   "outputs": [],
   "source": [
    "df=df[df[\"cast\"]!=\"Not mentioned\"]"
   ]
  },
  {
   "cell_type": "code",
   "execution_count": 56,
   "id": "b1eabce2-6924-4c54-a657-b70ad5975a7b",
   "metadata": {},
   "outputs": [],
   "source": [
    "df[\"lead_actor\"]=df[\"cast\"].str.split(\",\").str[0]"
   ]
  },
  {
   "cell_type": "code",
   "execution_count": 57,
   "id": "439c6c81-645d-4e95-a38e-165ac4b101de",
   "metadata": {},
   "outputs": [
    {
     "data": {
      "text/plain": [
       "lead_actor\n",
       "Shah Rukh Khan        26\n",
       "Akshay Kumar          23\n",
       "Amitabh Bachchan      20\n",
       "David Attenborough    20\n",
       "Adam Sandler          20\n",
       "Name: count, dtype: int64"
      ]
     },
     "execution_count": 57,
     "metadata": {},
     "output_type": "execute_result"
    }
   ],
   "source": [
    "df[\"lead_actor\"].value_counts().head(5)"
   ]
  },
  {
   "cell_type": "code",
   "execution_count": 58,
   "id": "2709cbfd-ca2d-4e44-8fe7-0f9d0cdad256",
   "metadata": {},
   "outputs": [
    {
     "data": {
      "text/html": [
       "<div>\n",
       "<style scoped>\n",
       "    .dataframe tbody tr th:only-of-type {\n",
       "        vertical-align: middle;\n",
       "    }\n",
       "\n",
       "    .dataframe tbody tr th {\n",
       "        vertical-align: top;\n",
       "    }\n",
       "\n",
       "    .dataframe thead th {\n",
       "        text-align: right;\n",
       "    }\n",
       "</style>\n",
       "<table border=\"1\" class=\"dataframe\">\n",
       "  <thead>\n",
       "    <tr style=\"text-align: right;\">\n",
       "      <th></th>\n",
       "      <th>type</th>\n",
       "      <th>title</th>\n",
       "      <th>director</th>\n",
       "      <th>cast</th>\n",
       "      <th>country</th>\n",
       "      <th>date_added</th>\n",
       "      <th>release_year</th>\n",
       "      <th>rating</th>\n",
       "      <th>duration</th>\n",
       "      <th>listed_in</th>\n",
       "      <th>year</th>\n",
       "      <th>month</th>\n",
       "      <th>day</th>\n",
       "      <th>genre</th>\n",
       "      <th>lead_actor</th>\n",
       "    </tr>\n",
       "  </thead>\n",
       "  <tbody>\n",
       "    <tr>\n",
       "      <th>6190</th>\n",
       "      <td>Movie</td>\n",
       "      <td>Asura: The City of Madness</td>\n",
       "      <td>Sung-soo Kim</td>\n",
       "      <td>Jung-min Hwang, Do-won Kwak, Man-sik Jung, Woo...</td>\n",
       "      <td>South Korea</td>\n",
       "      <td>2018-02-15</td>\n",
       "      <td>2016</td>\n",
       "      <td>NR</td>\n",
       "      <td>133 min</td>\n",
       "      <td>Action &amp; Adventure, Dramas, International Movies</td>\n",
       "      <td>2018</td>\n",
       "      <td>2</td>\n",
       "      <td>15</td>\n",
       "      <td>Action &amp; Adventure</td>\n",
       "      <td>Jung-min Hwang</td>\n",
       "    </tr>\n",
       "    <tr>\n",
       "      <th>6878</th>\n",
       "      <td>Movie</td>\n",
       "      <td>Good Night, and Good Luck</td>\n",
       "      <td>George Clooney</td>\n",
       "      <td>David Strathairn, Patricia Clarkson, George Cl...</td>\n",
       "      <td>United States, France, United Kingdom, Japan</td>\n",
       "      <td>2019-06-02</td>\n",
       "      <td>2005</td>\n",
       "      <td>PG</td>\n",
       "      <td>93 min</td>\n",
       "      <td>Dramas</td>\n",
       "      <td>2019</td>\n",
       "      <td>6</td>\n",
       "      <td>2</td>\n",
       "      <td>Dramas</td>\n",
       "      <td>David Strathairn</td>\n",
       "    </tr>\n",
       "    <tr>\n",
       "      <th>6914</th>\n",
       "      <td>Movie</td>\n",
       "      <td>Hamza's Suitcase</td>\n",
       "      <td>Akram Farouk</td>\n",
       "      <td>Hamada Helal, Yousra El Lozy, Ahmed Fathy, Moh...</td>\n",
       "      <td>Egypt</td>\n",
       "      <td>2019-05-02</td>\n",
       "      <td>2017</td>\n",
       "      <td>TV-14</td>\n",
       "      <td>79 min</td>\n",
       "      <td>Comedies, International Movies</td>\n",
       "      <td>2019</td>\n",
       "      <td>5</td>\n",
       "      <td>2</td>\n",
       "      <td>Comedies</td>\n",
       "      <td>Hamada Helal</td>\n",
       "    </tr>\n",
       "    <tr>\n",
       "      <th>6444</th>\n",
       "      <td>Movie</td>\n",
       "      <td>Chaotic Love Poems</td>\n",
       "      <td>Garin Nugroho</td>\n",
       "      <td>Chicco Jerikho, Pevita Pearce</td>\n",
       "      <td>Indonesia</td>\n",
       "      <td>2019-01-05</td>\n",
       "      <td>2016</td>\n",
       "      <td>TV-14</td>\n",
       "      <td>86 min</td>\n",
       "      <td>Dramas, International Movies, Romantic Movies</td>\n",
       "      <td>2019</td>\n",
       "      <td>1</td>\n",
       "      <td>5</td>\n",
       "      <td>Dramas</td>\n",
       "      <td>Chicco Jerikho</td>\n",
       "    </tr>\n",
       "    <tr>\n",
       "      <th>1309</th>\n",
       "      <td>Movie</td>\n",
       "      <td>My Teacher, My Obsession</td>\n",
       "      <td>Damián Romay</td>\n",
       "      <td>Lucy Loken, Laura Bilgeri, Rusty Joiner, Alexa...</td>\n",
       "      <td>United States</td>\n",
       "      <td>2021-02-15</td>\n",
       "      <td>2018</td>\n",
       "      <td>TV-14</td>\n",
       "      <td>86 min</td>\n",
       "      <td>Thrillers</td>\n",
       "      <td>2021</td>\n",
       "      <td>2</td>\n",
       "      <td>15</td>\n",
       "      <td>Thrillers</td>\n",
       "      <td>Lucy Loken</td>\n",
       "    </tr>\n",
       "  </tbody>\n",
       "</table>\n",
       "</div>"
      ],
      "text/plain": [
       "       type                       title        director  \\\n",
       "6190  Movie  Asura: The City of Madness    Sung-soo Kim   \n",
       "6878  Movie   Good Night, and Good Luck  George Clooney   \n",
       "6914  Movie            Hamza's Suitcase    Akram Farouk   \n",
       "6444  Movie          Chaotic Love Poems   Garin Nugroho   \n",
       "1309  Movie    My Teacher, My Obsession    Damián Romay   \n",
       "\n",
       "                                                   cast  \\\n",
       "6190  Jung-min Hwang, Do-won Kwak, Man-sik Jung, Woo...   \n",
       "6878  David Strathairn, Patricia Clarkson, George Cl...   \n",
       "6914  Hamada Helal, Yousra El Lozy, Ahmed Fathy, Moh...   \n",
       "6444                      Chicco Jerikho, Pevita Pearce   \n",
       "1309  Lucy Loken, Laura Bilgeri, Rusty Joiner, Alexa...   \n",
       "\n",
       "                                           country date_added  release_year  \\\n",
       "6190                                   South Korea 2018-02-15          2016   \n",
       "6878  United States, France, United Kingdom, Japan 2019-06-02          2005   \n",
       "6914                                         Egypt 2019-05-02          2017   \n",
       "6444                                     Indonesia 2019-01-05          2016   \n",
       "1309                                 United States 2021-02-15          2018   \n",
       "\n",
       "     rating duration                                         listed_in  year  \\\n",
       "6190     NR  133 min  Action & Adventure, Dramas, International Movies  2018   \n",
       "6878     PG   93 min                                            Dramas  2019   \n",
       "6914  TV-14   79 min                    Comedies, International Movies  2019   \n",
       "6444  TV-14   86 min     Dramas, International Movies, Romantic Movies  2019   \n",
       "1309  TV-14   86 min                                         Thrillers  2021   \n",
       "\n",
       "      month  day               genre        lead_actor  \n",
       "6190      2   15  Action & Adventure    Jung-min Hwang  \n",
       "6878      6    2              Dramas  David Strathairn  \n",
       "6914      5    2            Comedies      Hamada Helal  \n",
       "6444      1    5              Dramas    Chicco Jerikho  \n",
       "1309      2   15           Thrillers        Lucy Loken  "
      ]
     },
     "execution_count": 58,
     "metadata": {},
     "output_type": "execute_result"
    }
   ],
   "source": [
    "df.sample(5)"
   ]
  },
  {
   "cell_type": "code",
   "execution_count": 59,
   "id": "ea516516-1460-48ce-a4d9-50153e267aca",
   "metadata": {},
   "outputs": [],
   "source": [
    "df.drop([\"date_added\",\"listed_in\",\"cast\"],axis=1,inplace=True)"
   ]
  },
  {
   "cell_type": "code",
   "execution_count": 60,
   "id": "ede5f3e6-5a32-4049-a3b9-ead3347b6f58",
   "metadata": {},
   "outputs": [
    {
     "data": {
      "text/html": [
       "<div>\n",
       "<style scoped>\n",
       "    .dataframe tbody tr th:only-of-type {\n",
       "        vertical-align: middle;\n",
       "    }\n",
       "\n",
       "    .dataframe tbody tr th {\n",
       "        vertical-align: top;\n",
       "    }\n",
       "\n",
       "    .dataframe thead th {\n",
       "        text-align: right;\n",
       "    }\n",
       "</style>\n",
       "<table border=\"1\" class=\"dataframe\">\n",
       "  <thead>\n",
       "    <tr style=\"text-align: right;\">\n",
       "      <th></th>\n",
       "      <th>type</th>\n",
       "      <th>title</th>\n",
       "      <th>director</th>\n",
       "      <th>country</th>\n",
       "      <th>release_year</th>\n",
       "      <th>rating</th>\n",
       "      <th>duration</th>\n",
       "      <th>year</th>\n",
       "      <th>month</th>\n",
       "      <th>day</th>\n",
       "      <th>genre</th>\n",
       "      <th>lead_actor</th>\n",
       "    </tr>\n",
       "  </thead>\n",
       "  <tbody>\n",
       "    <tr>\n",
       "      <th>2925</th>\n",
       "      <td>Movie</td>\n",
       "      <td>To All the Boys: P.S. I Still Love You</td>\n",
       "      <td>Michael Fimognari</td>\n",
       "      <td>United States</td>\n",
       "      <td>2020</td>\n",
       "      <td>TV-14</td>\n",
       "      <td>102 min</td>\n",
       "      <td>2020</td>\n",
       "      <td>2</td>\n",
       "      <td>12</td>\n",
       "      <td>Comedies</td>\n",
       "      <td>Lana Condor</td>\n",
       "    </tr>\n",
       "    <tr>\n",
       "      <th>25</th>\n",
       "      <td>TV Show</td>\n",
       "      <td>Love on the Spectrum</td>\n",
       "      <td>Not mentioned</td>\n",
       "      <td>Australia</td>\n",
       "      <td>2021</td>\n",
       "      <td>TV-14</td>\n",
       "      <td>2 Seasons</td>\n",
       "      <td>2021</td>\n",
       "      <td>9</td>\n",
       "      <td>21</td>\n",
       "      <td>Docuseries</td>\n",
       "      <td>Brooke Satchwell</td>\n",
       "    </tr>\n",
       "    <tr>\n",
       "      <th>1631</th>\n",
       "      <td>Movie</td>\n",
       "      <td>Rust Creek</td>\n",
       "      <td>Jen McGowan</td>\n",
       "      <td>United States</td>\n",
       "      <td>2018</td>\n",
       "      <td>R</td>\n",
       "      <td>108 min</td>\n",
       "      <td>2020</td>\n",
       "      <td>11</td>\n",
       "      <td>30</td>\n",
       "      <td>Thrillers</td>\n",
       "      <td>Hermione Corfield</td>\n",
       "    </tr>\n",
       "    <tr>\n",
       "      <th>3574</th>\n",
       "      <td>Movie</td>\n",
       "      <td>Simon Amstell: Set Free</td>\n",
       "      <td>Julia Knowles</td>\n",
       "      <td>United Kingdom</td>\n",
       "      <td>2019</td>\n",
       "      <td>TV-MA</td>\n",
       "      <td>52 min</td>\n",
       "      <td>2019</td>\n",
       "      <td>8</td>\n",
       "      <td>20</td>\n",
       "      <td>Stand-Up Comedy</td>\n",
       "      <td>Simon Amstell</td>\n",
       "    </tr>\n",
       "    <tr>\n",
       "      <th>3977</th>\n",
       "      <td>Movie</td>\n",
       "      <td>Superlopez</td>\n",
       "      <td>Javier Ruiz Caldera</td>\n",
       "      <td>Spain</td>\n",
       "      <td>2018</td>\n",
       "      <td>TV-MA</td>\n",
       "      <td>108 min</td>\n",
       "      <td>2019</td>\n",
       "      <td>3</td>\n",
       "      <td>24</td>\n",
       "      <td>Action &amp; Adventure</td>\n",
       "      <td>Dani Rovira</td>\n",
       "    </tr>\n",
       "  </tbody>\n",
       "</table>\n",
       "</div>"
      ],
      "text/plain": [
       "         type                                   title             director  \\\n",
       "2925    Movie  To All the Boys: P.S. I Still Love You    Michael Fimognari   \n",
       "25    TV Show                    Love on the Spectrum        Not mentioned   \n",
       "1631    Movie                              Rust Creek          Jen McGowan   \n",
       "3574    Movie                 Simon Amstell: Set Free        Julia Knowles   \n",
       "3977    Movie                              Superlopez  Javier Ruiz Caldera   \n",
       "\n",
       "             country  release_year rating   duration  year  month  day  \\\n",
       "2925   United States          2020  TV-14    102 min  2020      2   12   \n",
       "25         Australia          2021  TV-14  2 Seasons  2021      9   21   \n",
       "1631   United States          2018      R    108 min  2020     11   30   \n",
       "3574  United Kingdom          2019  TV-MA     52 min  2019      8   20   \n",
       "3977           Spain          2018  TV-MA    108 min  2019      3   24   \n",
       "\n",
       "                   genre         lead_actor  \n",
       "2925            Comedies        Lana Condor  \n",
       "25            Docuseries   Brooke Satchwell  \n",
       "1631           Thrillers  Hermione Corfield  \n",
       "3574     Stand-Up Comedy      Simon Amstell  \n",
       "3977  Action & Adventure        Dani Rovira  "
      ]
     },
     "execution_count": 60,
     "metadata": {},
     "output_type": "execute_result"
    }
   ],
   "source": [
    "df.sample(5)"
   ]
  },
  {
   "cell_type": "code",
   "execution_count": 62,
   "id": "fad4212f-659c-416e-a6b0-193be41611fd",
   "metadata": {},
   "outputs": [
    {
     "data": {
      "text/plain": [
       "(7979, 12)"
      ]
     },
     "execution_count": 62,
     "metadata": {},
     "output_type": "execute_result"
    }
   ],
   "source": [
    "df.shape"
   ]
  },
  {
   "cell_type": "code",
   "execution_count": 65,
   "id": "93defde4-09df-4f8a-8a41-327c38259631",
   "metadata": {},
   "outputs": [],
   "source": [
    "df.to_csv(\"cleaned_data2.csv\")"
   ]
  },
  {
   "cell_type": "code",
   "execution_count": null,
   "id": "b36f5dfd-8e35-4f57-952a-e59ef067a7e1",
   "metadata": {},
   "outputs": [],
   "source": [
    " "
   ]
  }
 ],
 "metadata": {
  "kernelspec": {
   "display_name": "Python 3 (ipykernel)",
   "language": "python",
   "name": "python3"
  },
  "language_info": {
   "codemirror_mode": {
    "name": "ipython",
    "version": 3
   },
   "file_extension": ".py",
   "mimetype": "text/x-python",
   "name": "python",
   "nbconvert_exporter": "python",
   "pygments_lexer": "ipython3",
   "version": "3.13.2"
  }
 },
 "nbformat": 4,
 "nbformat_minor": 5
}
